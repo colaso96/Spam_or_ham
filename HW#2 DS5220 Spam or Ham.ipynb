{
 "cells": [
  {
   "cell_type": "code",
   "execution_count": 397,
   "metadata": {},
   "outputs": [],
   "source": [
    "import email\n",
    "from bs4 import BeautifulSoup\n",
    "import pandas as pd\n",
    "import numpy as np\n",
    "import os\n",
    "import matplotlib.pyplot as plt\n",
    "from sklearn.model_selection import train_test_split\n",
    "from sklearn.feature_extraction.text import CountVectorizer\n",
    "from sklearn.pipeline import Pipeline\n",
    "from sklearn.feature_extraction.text import TfidfVectorizer\n",
    "from sklearn.naive_bayes import MultinomialNB\n",
    "from sklearn.neighbors import KNeighborsClassifier\n",
    "from sklearn.linear_model import LogisticRegression, SGDClassifier\n",
    "from sklearn.tree import DecisionTreeRegressor\n",
    "from sklearn.metrics import confusion_matrix\n",
    "from sklearn.metrics import precision_score, recall_score\n",
    "\n",
    "\n",
    "def parse_email(file_path):\n",
    "    \"\"\"\n",
    "    Read each open in the directory & parse email info\n",
    "    Path: Variable used to define folder location\n",
    "    \"\"\"\n",
    "    with open(file_path, 'rb') as f:\n",
    "        msg = email.message_from_bytes(f.read())\n",
    "        \n",
    "    #Get email headers\n",
    "    subject = msg.get('Subject')\n",
    "    \n",
    "    # Read email’s body\n",
    "    body = str(msg.get_payload())\n",
    "    \n",
    "    # Remove HTML tags\n",
    "    body = BeautifulSoup(body).get_text()\n",
    "    return subject, body"
   ]
  },
  {
   "cell_type": "code",
   "execution_count": 398,
   "metadata": {},
   "outputs": [],
   "source": [
    "def confusion_matrix_plot(conf_mat):\n",
    "    n = len(conf_mat)\n",
    "    plt.imshow(conf_mat, cmap='Blues', extent=[-0.5, n-0.5, -0.5, n-0.5])\n",
    "    \n",
    "    for i in range(n):\n",
    "        for j in range(n):\n",
    "            plt.text(i, j, conf_mat[n-j-1, i], ha='center', va='center')\n",
    "    \n",
    "    plt.colorbar()\n",
    "    plt.xticks(range(n))\n",
    "    plt.yticks(range(n), range(n-1, -1, -1))\n",
    "    plt.xlabel('Predicted Class')\n",
    "    plt.ylabel('True Class')\n",
    "    plt.plot"
   ]
  },
  {
   "cell_type": "code",
   "execution_count": 420,
   "metadata": {},
   "outputs": [],
   "source": [
    "def plot_learning_curve(test_error, training_size):\n",
    "    plt.plot(training_size, test_error)\n",
    "    plt.title(\"Learning Curve\")\n",
    "    plt.xlabel(\"Training Size\")\n",
    "    plt.ylabel(\"Test Accuracy\")\n",
    "    plt.plot"
   ]
  },
  {
   "cell_type": "code",
   "execution_count": 400,
   "metadata": {},
   "outputs": [
    {
     "name": "stderr",
     "output_type": "stream",
     "text": [
      "/Users/colecrescas/opt/anaconda3/lib/python3.8/site-packages/bs4/__init__.py:414: MarkupResemblesLocatorWarning: \"http://www.post-gazette.com/columnists/20020905brian5.asp\n",
      "\n",
      "\n",
      "\n",
      "\" looks like a URL. Beautiful Soup is not an HTTP client. You should probably use an HTTP client like requests to get the document behind the URL, and feed that document to Beautiful Soup.\n",
      "  warnings.warn(\n"
     ]
    }
   ],
   "source": [
    "ham_path = \"/Users/colecrescas/Downloads/easy_ham\"\n",
    "spam_path = \"/Users/colecrescas/Downloads/spam\"\n",
    "\n",
    "ham = []\n",
    "spam = []\n",
    "\n",
    "def email_to_dataframe(dir_path, lst):\n",
    "    for file in os.listdir(dir_path):\n",
    "        file_path = f\"{dir_path}/{file}\"\n",
    "        X = parse_email(file_path)\n",
    "        #text = re.sub('http://\\S+|https://\\S+', '', X)\n",
    "        lst.append(X)\n",
    "\n",
    "email_to_dataframe(ham_path, ham)\n",
    "email_to_dataframe(spam_path, spam)\n",
    "\n",
    "ham_0 = pd.Series(np.zeros(len(ham)))\n",
    "spam_1 = pd.Series(np.ones(len(spam)))\n",
    "\n",
    "df1 = pd.DataFrame()\n",
    "df1['email'] = ham\n",
    "df1['Spam (1) or ham (0)'] = ham_0\n",
    "\n",
    "df2 = pd.DataFrame()\n",
    "df2['email'] = spam\n",
    "df2['Spam (1) or ham (0)'] = spam_1\n",
    "\n",
    "df = df1.append(df2, ignore_index=True)\n",
    "df['email'] = df['email'].astype(str)\n",
    "df[\"Spam (1) or ham (0)\"].astype(int)\n",
    "df['email'] = df['email'].str.replace('http[s]?://(?:[a-zA-Z]|[0-9]|[$-_@.&+]|[!*\\(\\),]|(?:%[0-9a-fA-F][0-9a-fA-F]))+', 'URL')"
   ]
  },
  {
   "cell_type": "code",
   "execution_count": 410,
   "metadata": {},
   "outputs": [],
   "source": [
    "tf_idf = TfidfVectorizer(stop_words='english')\n",
    "\n",
    "bow = tf_idf.fit_transform(df['email']).toarray()\n",
    "\n",
    "vect = pd.DataFrame(bow, columns=tf_idf.get_feature_names())\n",
    "vect[\"Spam (1) or ham (0)\"] = df[\"Spam (1) or ham (0)\"]"
   ]
  },
  {
   "cell_type": "code",
   "execution_count": 411,
   "metadata": {},
   "outputs": [],
   "source": [
    "X_train, X_test, y_train, y_test = train_test_split(vect.iloc[:,:-1], vect['Spam (1) or ham (0)'], test_size = 0.25)"
   ]
  },
  {
   "cell_type": "markdown",
   "metadata": {},
   "source": [
    "Classifiers tried: KNN, SGDClassifier, MultinomialNB, Logistic Regression\n",
    "\n",
    "MultinomialNB had a very high precision but the recall was poor on both the training & test set.  The accuracy on the training & test sets was 87.8% & 85.8% respectively.\n",
    "\n",
    "Logistic Regression also had a very high precision but the recall was still low.  The recall was better than the MultinomialNB performance and the accuracy on the training & test sets was 69.8 % & 59.6% respectively.\n",
    "\n",
    "KNN had a mediocre performance overall with precision levels around 47% for both sets as well as an accuracy score of around 81.5%.  In addition, the computation time was far too long to iterate on the model (selecting a n_neighbors value of 3).\n",
    "\n",
    "SGDClassifier had a fantastic performance on the training set & a test set but the recall on the test set was significantly less than the recall on the training set.  Both sets had a high accuracy score shown in the table belo"
   ]
  },
  {
   "cell_type": "code",
   "execution_count": 412,
   "metadata": {},
   "outputs": [
    {
     "name": "stdout",
     "output_type": "stream",
     "text": [
      "    Metric  Classifier Train  Classifier Test\n",
      " Precision          1.000000         1.000000\n",
      "    Recall          0.989362         0.824000\n",
      "  Accuracy          0.998223         0.970706\n"
     ]
    }
   ],
   "source": [
    "clf = SGDClassifier()\n",
    "\n",
    "clf.fit(X_train, y_train)\n",
    "y_pred_train = clf.predict(X_train)\n",
    "y_pred_test = clf.predict(X_test)\n",
    "\n",
    "conf_mat_train = confusion_matrix(y_train, y_pred_train)\n",
    "conf_mat_test = confusion_matrix(y_test, y_pred_test)\n",
    "\n",
    "results = pd.DataFrame(index = None)\n",
    "results['Metric'] = ['Precision', 'Recall', 'Accuracy']\n",
    "results['Classifier Train'] = [(precision_score(y_train, y_pred_train)), (recall_score(y_train, y_pred_train)), (clf.score(X_train, y_train))]\n",
    "results['Classifier Test'] = [(precision_score(y_test, y_pred_test)), (recall_score(y_test, y_pred_test)), (clf.score(X_test, y_test))]\n",
    "\n",
    "print(results.to_string(index=False))"
   ]
  },
  {
   "cell_type": "code",
   "execution_count": 413,
   "metadata": {},
   "outputs": [
    {
     "name": "stdout",
     "output_type": "stream",
     "text": [
      "Train Confusion Matrix:\n"
     ]
    },
    {
     "data": {
      "image/png": "[encoded data removed]",
      "text/plain": [
       "<Figure size 432x288 with 2 Axes>"
      ]
     },
     "metadata": {
      "needs_background": "light"
     },
     "output_type": "display_data"
    }
   ],
   "source": [
    "print(\"Train Confusion Matrix:\")\n",
    "confusion_matrix_plot(conf_mat_train)"
   ]
  },
  {
   "cell_type": "code",
   "execution_count": 414,
   "metadata": {},
   "outputs": [
    {
     "name": "stdout",
     "output_type": "stream",
     "text": [
      "Test Confusion Matrix:\n"
     ]
    },
    {
     "data": {
      "image/png": "[encoded data removed]",
      "text/plain": [
       "<Figure size 432x288 with 2 Axes>"
      ]
     },
     "metadata": {
      "needs_background": "light"
     },
     "output_type": "display_data"
    }
   ],
   "source": [
    "print(\"Test Confusion Matrix:\")\n",
    "confusion_matrix_plot(conf_mat_test)"
   ]
  },
  {
   "cell_type": "code",
   "execution_count": 421,
   "metadata": {},
   "outputs": [],
   "source": [
    "test_accuracy = []\n",
    "training_size = []\n",
    "train_size=0.3\n",
    "\n",
    "for i in range(17):\n",
    "    X_train, X_test, y_train, y_test = train_test_split(vect.iloc[:,:-1], vect['Spam (1) or ham (0)'], train_size = train_size)\n",
    "\n",
    "    clf = SGDClassifier()\n",
    "    \n",
    "    clf.fit(X_train, y_train)\n",
    "    y_pred_test = clf.predict(X_test)\n",
    "    test_accuracy.append(round(clf.score(X_test, y_test), 3))\n",
    "    training_size.append(round(train_size, 3))\n",
    "    \n",
    "    train_size += 0.025"
   ]
  },
  {
   "cell_type": "code",
   "execution_count": 422,
   "metadata": {},
   "outputs": [
    {
     "data": {
      "image/png": "[encoded data removed]",
      "text/plain": [
       "<Figure size 432x288 with 1 Axes>"
      ]
     },
     "metadata": {
      "needs_background": "light"
     },
     "output_type": "display_data"
    }
   ],
   "source": [
    "plot_learning_curve(test_accuracy, training_size)"
   ]
  },
  {
   "cell_type": "markdown",
   "metadata": {},
   "source": [
    "Using the learning curve graph shown above it is clear that there isnt a large difference in performance other than the training size input of 0.3.  However, by selecting the max value of the test accuracy we can tune our model parameters and optimize the performance."
   ]
  },
  {
   "cell_type": "code",
   "execution_count": 423,
   "metadata": {},
   "outputs": [],
   "source": [
    "#redo calculations using best value of training size\n",
    "test_size = (1 - max(test_accuracy))\n",
    "X_train2, X_test2, y_train2, y_test2 = train_test_split(vect.iloc[:,:-1], vect['Spam (1) or ham (0)'], test_size = test_size)"
   ]
  },
  {
   "cell_type": "code",
   "execution_count": 424,
   "metadata": {},
   "outputs": [
    {
     "name": "stdout",
     "output_type": "stream",
     "text": [
      "Test Size = 0.25\n",
      "    Metric  Classifier Train  Classifier Test\n",
      " Precision          1.000000         1.000000\n",
      "    Recall          0.991803         0.923077\n",
      "  Accuracy          0.998637         0.985075 \n",
      "\n",
      "Selected Best Test Size = 0.02\n",
      "    Metric  Classifier Train  Classifier Test\n",
      " Precision          1.000000         1.000000\n",
      "    Recall          0.989362         0.824000\n",
      "  Accuracy          0.998223         0.970706\n"
     ]
    }
   ],
   "source": [
    "clf.fit(X_train2, y_train2)\n",
    "y_pred_train2 = clf.predict(X_train2)\n",
    "y_pred_test2 = clf.predict(X_test2)\n",
    "\n",
    "results2 = pd.DataFrame(index = None)\n",
    "results2['Metric'] = ['Precision', 'Recall', 'Accuracy']\n",
    "results2['Classifier Train'] = [(precision_score(y_train2, y_pred_train2)), (recall_score(y_train2, y_pred_train2)), (clf.score(X_train2, y_train2))]\n",
    "results2['Classifier Test'] = [(precision_score(y_test2, y_pred_test2)), (recall_score(y_test2, y_pred_test2)), (clf.score(X_test2, y_test2))]\n",
    "\n",
    "print(\"Test Size = 0.25\")\n",
    "print(results2.to_string(index=False), \"\\n\")\n",
    "print(\"Selected Best Test Size =\", round(test_size, 2))\n",
    "print(results.to_string(index=False))"
   ]
  },
  {
   "cell_type": "code",
   "execution_count": 425,
   "metadata": {},
   "outputs": [
    {
     "name": "stdout",
     "output_type": "stream",
     "text": [
      "       Ham_Prob  Spam_Prob    Token  log token value\n",
      "49787  0.001996   0.042383      xa0         3.055599\n",
      "34787  0.001996   0.033187  nplease         2.811001\n",
      "38416  0.001996   0.021991      opt         2.399493\n",
      "39837  0.001996   0.019192     plus         2.263361\n",
      "27868  0.003992   0.034386       n1         2.153360\n"
     ]
    },
    {
     "name": "stderr",
     "output_type": "stream",
     "text": [
      "/Users/colecrescas/opt/anaconda3/lib/python3.8/site-packages/pandas/core/series.py:679: RuntimeWarning: divide by zero encountered in log\n",
      "  result = getattr(ufunc, method)(*inputs, **kwargs)\n"
     ]
    }
   ],
   "source": [
    "ham_df = vect.iloc[:501,:]\n",
    "spam_df = vect.iloc[502:,:]\n",
    "prob = pd.DataFrame()\n",
    "token = []\n",
    "ham_prob = []\n",
    "spam_prob = []\n",
    "\n",
    "for columnName in ham_df.iloc[:,:-1]:\n",
    "    ham_prob.append(np.count_nonzero(ham_df[columnName]) / 501)\n",
    "    token.append(columnName)\n",
    "\n",
    "for columnName in spam_df.iloc[:,:-1]:\n",
    "    spam_prob.append(np.count_nonzero(spam_df[columnName]) / 2501)  \n",
    "\n",
    "prob['Ham_Prob'] = ham_prob\n",
    "prob['Spam_Prob'] = spam_prob\n",
    "prob['Token'] = token\n",
    "prob['log token value'] = np.log(prob['Spam_Prob'] / prob['Ham_Prob'])\n",
    "prob.replace([np.inf, -np.inf], np.nan, inplace=True)\n",
    "prob.dropna(inplace=True)\n",
    "\n",
    "top_5_tokens = prob.nlargest(5, 'log token value')\n",
    "print(top_5_tokens)"
   ]
  },
  {
   "cell_type": "code",
   "execution_count": null,
   "metadata": {},
   "outputs": [],
   "source": []
  }
 ],
 "metadata": {
  "kernelspec": {
   "display_name": "Python 3",
   "language": "python",
   "name": "python3"
  },
  "language_info": {
   "codemirror_mode": {
    "name": "ipython",
    "version": 3
   },
   "file_extension": ".py",
   "mimetype": "text/x-python",
   "name": "python",
   "nbconvert_exporter": "python",
   "pygments_lexer": "ipython3",
   "version": "3.8.3"
  }
 },
 "nbformat": 4,
 "nbformat_minor": 4
}
